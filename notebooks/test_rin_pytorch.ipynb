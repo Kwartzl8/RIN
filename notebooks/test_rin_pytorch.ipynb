{
 "cells": [
  {
   "cell_type": "markdown",
   "metadata": {},
   "source": [
    "# Phil Wang's implementation"
   ]
  },
  {
   "cell_type": "code",
   "execution_count": 3,
   "metadata": {},
   "outputs": [
    {
     "name": "stderr",
     "output_type": "stream",
     "text": [
      "sampling loop time step: 100%|██████████| 1000/1000 [00:23<00:00, 42.38it/s]\n"
     ]
    },
    {
     "data": {
      "text/plain": [
       "torch.Size([4, 3, 128, 128])"
      ]
     },
     "execution_count": 3,
     "metadata": {},
     "output_type": "execute_result"
    }
   ],
   "source": [
    "import torch\n",
    "from rin_pytorch import RIN, GaussianDiffusion\n",
    "\n",
    "model = RIN(\n",
    "    dim = 256,                  # model dimensions\n",
    "    image_size = 128,           # image size\n",
    "    patch_size = 8,             # patch size\n",
    "    depth = 6,                  # depth\n",
    "    num_latents = 128,          # number of latents. they used 256 in the paper\n",
    "    latent_self_attn_depth = 4, # number of latent self attention blocks per recurrent step, K in the paper\n",
    ").cuda()\n",
    "\n",
    "diffusion = GaussianDiffusion(\n",
    "    model,\n",
    "    timesteps = 1000,\n",
    "    train_prob_self_cond = 0.9,\n",
    "    scale = 1.\n",
    ")\n",
    "\n",
    "training_images = torch.randn(8, 3, 128, 128).cuda() # images are normalized from 0 to 1\n",
    "loss = diffusion(training_images)\n",
    "loss.backward()\n",
    "# after a lot of training\n",
    "\n",
    "sampled_images = diffusion.sample(batch_size = 4)\n",
    "sampled_images.shape # (4, 3, 128, 128)"
   ]
  },
  {
   "cell_type": "code",
   "execution_count": null,
   "metadata": {},
   "outputs": [],
   "source": []
  }
 ],
 "metadata": {
  "kernelspec": {
   "display_name": ".venv",
   "language": "python",
   "name": "python3"
  },
  "language_info": {
   "codemirror_mode": {
    "name": "ipython",
    "version": 3
   },
   "file_extension": ".py",
   "mimetype": "text/x-python",
   "name": "python",
   "nbconvert_exporter": "python",
   "pygments_lexer": "ipython3",
   "version": "3.12.9"
  }
 },
 "nbformat": 4,
 "nbformat_minor": 2
}
